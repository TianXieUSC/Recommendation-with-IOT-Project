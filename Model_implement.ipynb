{
 "cells": [
  {
   "cell_type": "markdown",
   "metadata": {},
   "source": [
    "原文章链接：http://nbviewer.jupyter.org/github/david-cortes/cmfrec/blob/master/example/cmfrec_movielens_sideinfo.ipynb"
   ]
  },
  {
   "cell_type": "code",
   "execution_count": 1,
   "metadata": {
    "collapsed": true
   },
   "outputs": [],
   "source": [
    "import pandas as pd, time\n",
    "from datetime import datetime"
   ]
  },
  {
   "cell_type": "code",
   "execution_count": 16,
   "metadata": {},
   "outputs": [
    {
     "data": {
      "text/html": [
       "<div>\n",
       "<style>\n",
       "    .dataframe thead tr:only-child th {\n",
       "        text-align: right;\n",
       "    }\n",
       "\n",
       "    .dataframe thead th {\n",
       "        text-align: left;\n",
       "    }\n",
       "\n",
       "    .dataframe tbody tr th {\n",
       "        vertical-align: top;\n",
       "    }\n",
       "</style>\n",
       "<table border=\"1\" class=\"dataframe\">\n",
       "  <thead>\n",
       "    <tr style=\"text-align: right;\">\n",
       "      <th></th>\n",
       "      <th>UserId</th>\n",
       "      <th>ItemId</th>\n",
       "      <th>Rating</th>\n",
       "      <th>Timestamp</th>\n",
       "    </tr>\n",
       "  </thead>\n",
       "  <tbody>\n",
       "    <tr>\n",
       "      <th>0</th>\n",
       "      <td>d8:1d:72:76:a9:85</td>\n",
       "      <td>10101</td>\n",
       "      <td>1.0</td>\n",
       "      <td>2015-09-05 23:54:08</td>\n",
       "    </tr>\n",
       "    <tr>\n",
       "      <th>1</th>\n",
       "      <td>cc:29:f5:d1:cc:e7</td>\n",
       "      <td>560606</td>\n",
       "      <td>1.0</td>\n",
       "      <td>2015-09-05 23:48:08</td>\n",
       "    </tr>\n",
       "    <tr>\n",
       "      <th>2</th>\n",
       "      <td>00:92:4f:85:9e:15</td>\n",
       "      <td>10101</td>\n",
       "      <td>10.0</td>\n",
       "      <td>2015-09-05 23:43:33</td>\n",
       "    </tr>\n",
       "    <tr>\n",
       "      <th>3</th>\n",
       "      <td>80:41:4e:e3:9c:1b</td>\n",
       "      <td>210501</td>\n",
       "      <td>1.0</td>\n",
       "      <td>2015-09-05 23:37:56</td>\n",
       "    </tr>\n",
       "    <tr>\n",
       "      <th>4</th>\n",
       "      <td>3c:91:57:37:23:ed</td>\n",
       "      <td>10101</td>\n",
       "      <td>1.0</td>\n",
       "      <td>2015-09-05 23:37:09</td>\n",
       "    </tr>\n",
       "  </tbody>\n",
       "</table>\n",
       "</div>"
      ],
      "text/plain": [
       "              UserId  ItemId  Rating            Timestamp\n",
       "0  d8:1d:72:76:a9:85   10101     1.0  2015-09-05 23:54:08\n",
       "1  cc:29:f5:d1:cc:e7  560606     1.0  2015-09-05 23:48:08\n",
       "2  00:92:4f:85:9e:15   10101    10.0  2015-09-05 23:43:33\n",
       "3  80:41:4e:e3:9c:1b  210501     1.0  2015-09-05 23:37:56\n",
       "4  3c:91:57:37:23:ed   10101     1.0  2015-09-05 23:37:09"
      ]
     },
     "execution_count": 16,
     "metadata": {},
     "output_type": "execute_result"
    }
   ],
   "source": [
    "ratings=pd.read_csv('/Users/apple/Desktop/Data/New feature vector/merge_transaction.csv',index_col='Unnamed: 0')\n",
    "ratings.head()"
   ]
  },
  {
   "cell_type": "markdown",
   "metadata": {},
   "source": [
    "ratings是每个mac购买商品的数量，小品类和时间"
   ]
  },
  {
   "cell_type": "code",
   "execution_count": 3,
   "metadata": {},
   "outputs": [
    {
     "name": "stdout",
     "output_type": "stream",
     "text": [
      "(13535, 5)\n",
      "(3644, 5)\n"
     ]
    }
   ],
   "source": [
    "time_cutoff='2015-08-20'\n",
    "train=ratings.loc[ratings.Timestamp<=time_cutoff]\n",
    "test=ratings.loc[ratings.Timestamp>time_cutoff]\n",
    "users_train=set(list(train.UserId))\n",
    "items_train=set(list(train.ItemId))\n",
    "test=test.loc[test.UserId.map(lambda x: x in users_train)]\n",
    "test=test.loc[test.ItemId.map(lambda x: x in items_train)]\n",
    "print(train.shape)\n",
    "print(test.shape)"
   ]
  },
  {
   "cell_type": "markdown",
   "metadata": {},
   "source": [
    "定义训练集和测试集"
   ]
  },
  {
   "cell_type": "code",
   "execution_count": 4,
   "metadata": {},
   "outputs": [
    {
     "name": "stderr",
     "output_type": "stream",
     "text": [
      "/Applications/anaconda/lib/python3.6/site-packages/h5py/__init__.py:34: FutureWarning: Conversion of the second argument of issubdtype from `float` to `np.floating` is deprecated. In future, it will be treated as `np.float64 == np.dtype(float).type`.\n",
      "  from ._conv import register_converters as _register_converters\n"
     ]
    },
    {
     "name": "stdout",
     "output_type": "stream",
     "text": [
      "INFO:tensorflow:Optimization terminated with:\n",
      "  Message: b'CONVERGENCE: REL_REDUCTION_OF_F_<=_FACTR*EPSMCH'\n",
      "  Objective function value: 1.290920\n",
      "  Number of iterations: 260\n",
      "  Number of functions evaluations: 296\n"
     ]
    }
   ],
   "source": [
    "from cmfrec import CMF\n",
    "import numpy as np\n",
    "# Number of latent factors\n",
    "k=40\n",
    "# Regularization parameter\n",
    "reg=1e-3\n",
    "# Fitting the model\n",
    "rec=CMF(k=k, reg_param=reg)\n",
    "rec.fit(train, random_seed=12345)\n",
    "# Making predictions\n",
    "test['Predicted']=test.apply(lambda x: rec.predict(x['UserId'],x['ItemId']),axis=1)"
   ]
  },
  {
   "cell_type": "markdown",
   "metadata": {},
   "source": [
    "Evaluating Hold-Out RMSE (the hyperparameters had already been somewhat tuned by cross-validation)"
   ]
  },
  {
   "cell_type": "code",
   "execution_count": 5,
   "metadata": {},
   "outputs": [
    {
     "data": {
      "text/plain": [
       "1.4502077635508481"
      ]
     },
     "execution_count": 5,
     "metadata": {},
     "output_type": "execute_result"
    }
   ],
   "source": [
    "np.sqrt(np.mean((test.Predicted-test.Rating)**2))"
   ]
  },
  {
   "cell_type": "markdown",
   "metadata": {},
   "source": [
    "adding user side information"
   ]
  },
  {
   "cell_type": "markdown",
   "metadata": {},
   "source": [
    "Features\n",
    "genre0: mac平均停留时间\n",
    "genre1: mac停留时间方差\n",
    "genre2: mac总出现次数\n",
    "genre3: mac在周中出现次数\n",
    "genre4: mac在周末出现次数\n",
    "genre5: mac的交易次数\n",
    "genre6: mac最长停留时间\n",
    "genre7: mac最短停留时间\n",
    "genre8: mac在时区1（0-6）出现次数\n",
    "genre9: mac在时区2（6-12）出现次数\n",
    "genre10: mac在时区3（12-18）出现次数\n",
    "genre11: mac在时区4（18-24）出现次数\n",
    "genre12: mac在时区1（0-6）平均停留时间\n",
    "genre13: mac在时区2（6-12）平均停留时间\n",
    "genre14: mac在时区3（12-18）平均停留时间\n",
    "genre15: mac在时区4（18-24）平均停留时间\n",
    "genre16: mac在时区1（0-6）停留时间方差\n",
    "genre17: mac在时区2（6-12）停留时间方差\n",
    "genre18: mac在时区3（12-18）停留时间方差\n",
    "genre19: mac在时区4（18-24）停留时间方差\n",
    "genre20: 每个mac的平均停留时间和总平均停留时间之比\n",
    "genre21: mac停留时间在5-30分钟之内的次数\n",
    "genre22: mac在八月第一周停留次数（是否有周期性）\n",
    "genre23: mac在八月第二周停留次数\n",
    "genre24: mac在八月第三周停留次数\n",
    "genre25: mac在八月第四周停留次数\""
   ]
  },
  {
   "cell_type": "code",
   "execution_count": 17,
   "metadata": {},
   "outputs": [
    {
     "data": {
      "text/html": [
       "<div>\n",
       "<style>\n",
       "    .dataframe thead tr:only-child th {\n",
       "        text-align: right;\n",
       "    }\n",
       "\n",
       "    .dataframe thead th {\n",
       "        text-align: left;\n",
       "    }\n",
       "\n",
       "    .dataframe tbody tr th {\n",
       "        vertical-align: top;\n",
       "    }\n",
       "</style>\n",
       "<table border=\"1\" class=\"dataframe\">\n",
       "  <thead>\n",
       "    <tr style=\"text-align: right;\">\n",
       "      <th></th>\n",
       "      <th>UserId</th>\n",
       "      <th>genre0</th>\n",
       "      <th>genre1</th>\n",
       "      <th>genre2</th>\n",
       "      <th>genre3</th>\n",
       "      <th>genre4</th>\n",
       "      <th>genre5</th>\n",
       "      <th>genre6</th>\n",
       "      <th>genre7</th>\n",
       "      <th>genre8</th>\n",
       "      <th>...</th>\n",
       "      <th>genre16</th>\n",
       "      <th>genre17</th>\n",
       "      <th>genre18</th>\n",
       "      <th>genre19</th>\n",
       "      <th>genre20</th>\n",
       "      <th>genre21</th>\n",
       "      <th>genre22</th>\n",
       "      <th>genre23</th>\n",
       "      <th>genre24</th>\n",
       "      <th>genre25</th>\n",
       "    </tr>\n",
       "  </thead>\n",
       "  <tbody>\n",
       "    <tr>\n",
       "      <th>0</th>\n",
       "      <td>18:59:36:ca:34:e7</td>\n",
       "      <td>1.838739</td>\n",
       "      <td>11.068394</td>\n",
       "      <td>37</td>\n",
       "      <td>32</td>\n",
       "      <td>5</td>\n",
       "      <td>5</td>\n",
       "      <td>14.666667</td>\n",
       "      <td>0.016667</td>\n",
       "      <td>0</td>\n",
       "      <td>...</td>\n",
       "      <td>0.000000</td>\n",
       "      <td>11.872137</td>\n",
       "      <td>0.701905</td>\n",
       "      <td>31.285444</td>\n",
       "      <td>0.224691</td>\n",
       "      <td>7</td>\n",
       "      <td>12</td>\n",
       "      <td>1</td>\n",
       "      <td>3</td>\n",
       "      <td>1</td>\n",
       "    </tr>\n",
       "    <tr>\n",
       "      <th>1</th>\n",
       "      <td>48:74:6e:70:88:ab</td>\n",
       "      <td>2.187255</td>\n",
       "      <td>14.326324</td>\n",
       "      <td>17</td>\n",
       "      <td>7</td>\n",
       "      <td>10</td>\n",
       "      <td>4</td>\n",
       "      <td>15.650000</td>\n",
       "      <td>0.016667</td>\n",
       "      <td>4</td>\n",
       "      <td>...</td>\n",
       "      <td>36.745469</td>\n",
       "      <td>0.150802</td>\n",
       "      <td>0.131383</td>\n",
       "      <td>0.040185</td>\n",
       "      <td>0.267279</td>\n",
       "      <td>9</td>\n",
       "      <td>3</td>\n",
       "      <td>1</td>\n",
       "      <td>2</td>\n",
       "      <td>1</td>\n",
       "    </tr>\n",
       "    <tr>\n",
       "      <th>2</th>\n",
       "      <td>ac:f7:f3:a7:78:8b</td>\n",
       "      <td>37.183333</td>\n",
       "      <td>0.000000</td>\n",
       "      <td>1</td>\n",
       "      <td>0</td>\n",
       "      <td>1</td>\n",
       "      <td>1</td>\n",
       "      <td>37.183333</td>\n",
       "      <td>37.183333</td>\n",
       "      <td>0</td>\n",
       "      <td>...</td>\n",
       "      <td>0.000000</td>\n",
       "      <td>0.000000</td>\n",
       "      <td>0.000000</td>\n",
       "      <td>0.000000</td>\n",
       "      <td>4.543745</td>\n",
       "      <td>0</td>\n",
       "      <td>0</td>\n",
       "      <td>1</td>\n",
       "      <td>0</td>\n",
       "      <td>0</td>\n",
       "    </tr>\n",
       "    <tr>\n",
       "      <th>3</th>\n",
       "      <td>34:6b:d3:df:23:90</td>\n",
       "      <td>1.837879</td>\n",
       "      <td>4.025156</td>\n",
       "      <td>11</td>\n",
       "      <td>8</td>\n",
       "      <td>3</td>\n",
       "      <td>3</td>\n",
       "      <td>7.316667</td>\n",
       "      <td>0.250000</td>\n",
       "      <td>4</td>\n",
       "      <td>...</td>\n",
       "      <td>1.009913</td>\n",
       "      <td>0.000000</td>\n",
       "      <td>11.111111</td>\n",
       "      <td>1.139489</td>\n",
       "      <td>0.224586</td>\n",
       "      <td>4</td>\n",
       "      <td>3</td>\n",
       "      <td>3</td>\n",
       "      <td>0</td>\n",
       "      <td>1</td>\n",
       "    </tr>\n",
       "    <tr>\n",
       "      <th>4</th>\n",
       "      <td>60:d9:a0:fc:03:b5</td>\n",
       "      <td>13.533333</td>\n",
       "      <td>477.439630</td>\n",
       "      <td>6</td>\n",
       "      <td>4</td>\n",
       "      <td>2</td>\n",
       "      <td>4</td>\n",
       "      <td>61.900000</td>\n",
       "      <td>0.566667</td>\n",
       "      <td>0</td>\n",
       "      <td>...</td>\n",
       "      <td>0.000000</td>\n",
       "      <td>0.000000</td>\n",
       "      <td>10.969722</td>\n",
       "      <td>940.444444</td>\n",
       "      <td>1.653752</td>\n",
       "      <td>4</td>\n",
       "      <td>2</td>\n",
       "      <td>1</td>\n",
       "      <td>0</td>\n",
       "      <td>0</td>\n",
       "    </tr>\n",
       "  </tbody>\n",
       "</table>\n",
       "<p>5 rows × 27 columns</p>\n",
       "</div>"
      ],
      "text/plain": [
       "              UserId     genre0      genre1  genre2  genre3  genre4  genre5  \\\n",
       "0  18:59:36:ca:34:e7   1.838739   11.068394      37      32       5       5   \n",
       "1  48:74:6e:70:88:ab   2.187255   14.326324      17       7      10       4   \n",
       "2  ac:f7:f3:a7:78:8b  37.183333    0.000000       1       0       1       1   \n",
       "3  34:6b:d3:df:23:90   1.837879    4.025156      11       8       3       3   \n",
       "4  60:d9:a0:fc:03:b5  13.533333  477.439630       6       4       2       4   \n",
       "\n",
       "      genre6     genre7  genre8   ...       genre16    genre17    genre18  \\\n",
       "0  14.666667   0.016667       0   ...      0.000000  11.872137   0.701905   \n",
       "1  15.650000   0.016667       4   ...     36.745469   0.150802   0.131383   \n",
       "2  37.183333  37.183333       0   ...      0.000000   0.000000   0.000000   \n",
       "3   7.316667   0.250000       4   ...      1.009913   0.000000  11.111111   \n",
       "4  61.900000   0.566667       0   ...      0.000000   0.000000  10.969722   \n",
       "\n",
       "      genre19   genre20  genre21  genre22  genre23  genre24  genre25  \n",
       "0   31.285444  0.224691        7       12        1        3        1  \n",
       "1    0.040185  0.267279        9        3        1        2        1  \n",
       "2    0.000000  4.543745        0        0        1        0        0  \n",
       "3    1.139489  0.224586        4        3        3        0        1  \n",
       "4  940.444444  1.653752        4        2        1        0        0  \n",
       "\n",
       "[5 rows x 27 columns]"
      ]
     },
     "execution_count": 17,
     "metadata": {},
     "output_type": "execute_result"
    }
   ],
   "source": [
    "user_info=pd.read_csv('/Users/apple/Desktop/Data/New feature vector with transaction people/Feature_Vector_with_transaction.csv',index_col=\"Unnamed: 0\")\n",
    "user_info.head()"
   ]
  },
  {
   "cell_type": "markdown",
   "metadata": {},
   "source": [
    "我把item side information设置成全是0的矩阵（没有item side information）"
   ]
  },
  {
   "cell_type": "code",
   "execution_count": 7,
   "metadata": {
    "collapsed": true
   },
   "outputs": [],
   "source": [
    "genres=[[i,0] for i in list(set(ratings['ItemId'].values))]\n",
    "genres=pd.DataFrame(genres,columns=['ItemId','genre0'])"
   ]
  },
  {
   "cell_type": "code",
   "execution_count": 8,
   "metadata": {},
   "outputs": [
    {
     "name": "stdout",
     "output_type": "stream",
     "text": [
      "INFO:tensorflow:Optimization terminated with:\n",
      "  Message: b'STOP: TOTAL NO. of ITERATIONS EXCEEDS LIMIT'\n",
      "  Objective function value: 215.199005\n",
      "  Number of iterations: 1001\n",
      "  Number of functions evaluations: 1092\n"
     ]
    }
   ],
   "source": [
    "# Number of latent factors\n",
    "k=30\n",
    "k_main=5\n",
    "k_genre=5\n",
    "k_demo=5\n",
    "# Regularization parameter\n",
    "reg=1e-3\n",
    "# This time I'll weight the ratings matrix higher\n",
    "w_main=4\n",
    "# Fitting the model\n",
    "# rec3=CMF(k=k, k_main=k_main, k_item=k_genre, k_user=k_demo, w_main=w_main, reg_param=reg)\n",
    "rec3=CMF(k=k, k_main=k_main, k_item=k_genre, k_user=k_demo, reg_param=reg, w_main=w_main)\n",
    "rec3.fit(train, genres, user_info, random_seed=32545)\n",
    "# Making predictions\n",
    "test['Predicted']=test.apply(lambda x: rec3.predict(x['UserId'],x['ItemId']),axis=1)"
   ]
  },
  {
   "cell_type": "code",
   "execution_count": 9,
   "metadata": {},
   "outputs": [
    {
     "data": {
      "text/plain": [
       "1.7457919837303943"
      ]
     },
     "execution_count": 9,
     "metadata": {},
     "output_type": "execute_result"
    }
   ],
   "source": [
    "np.sqrt(np.mean((test.Predicted-test.Rating)**2))"
   ]
  },
  {
   "cell_type": "markdown",
   "metadata": {},
   "source": [
    "RMSE becomes higher"
   ]
  },
  {
   "cell_type": "markdown",
   "metadata": {},
   "source": [
    "我先试着删除了波动较大的方差的feature"
   ]
  },
  {
   "cell_type": "code",
   "execution_count": 11,
   "metadata": {
    "collapsed": true
   },
   "outputs": [],
   "source": [
    "del user_info['genre12']\n",
    "del user_info['genre13']\n",
    "del user_info['genre14']\n",
    "del user_info['genre15']\n",
    "del user_info['genre16']\n",
    "del user_info['genre17']\n",
    "del user_info['genre18']\n",
    "del user_info['genre19']"
   ]
  },
  {
   "cell_type": "code",
   "execution_count": 12,
   "metadata": {},
   "outputs": [
    {
     "name": "stdout",
     "output_type": "stream",
     "text": [
      "INFO:tensorflow:Optimization terminated with:\n",
      "  Message: b'STOP: TOTAL NO. of ITERATIONS EXCEEDS LIMIT'\n",
      "  Objective function value: 107.508881\n",
      "  Number of iterations: 1001\n",
      "  Number of functions evaluations: 1090\n"
     ]
    }
   ],
   "source": [
    "# Number of latent factors\n",
    "k=30\n",
    "k_main=5\n",
    "k_genre=5\n",
    "k_demo=5\n",
    "# Regularization parameter\n",
    "reg=1e-3\n",
    "# This time I'll weight the ratings matrix higher\n",
    "w_main=4\n",
    "# Fitting the model\n",
    "# rec3=CMF(k=k, k_main=k_main, k_item=k_genre, k_user=k_demo, w_main=w_main, reg_param=reg)\n",
    "rec3=CMF(k=k, k_main=k_main, k_item=k_genre, k_user=k_demo, reg_param=reg, w_main=w_main)\n",
    "rec3.fit(train, genres, user_info, random_seed=32545)\n",
    "# Making predictions\n",
    "test['Predicted']=test.apply(lambda x: rec3.predict(x['UserId'],x['ItemId']),axis=1)"
   ]
  },
  {
   "cell_type": "code",
   "execution_count": 13,
   "metadata": {},
   "outputs": [
    {
     "data": {
      "text/plain": [
       "1.444269187457658"
      ]
     },
     "execution_count": 13,
     "metadata": {},
     "output_type": "execute_result"
    }
   ],
   "source": [
    "np.sqrt(np.mean((test.Predicted-test.Rating)**2))"
   ]
  },
  {
   "cell_type": "markdown",
   "metadata": {},
   "source": [
    "RMSE becomes smaller, however there is no improvement"
   ]
  },
  {
   "cell_type": "code",
   "execution_count": null,
   "metadata": {
    "collapsed": true
   },
   "outputs": [],
   "source": []
  }
 ],
 "metadata": {
  "kernelspec": {
   "display_name": "Python 3",
   "language": "python",
   "name": "python3"
  },
  "language_info": {
   "codemirror_mode": {
    "name": "ipython",
    "version": 3
   },
   "file_extension": ".py",
   "mimetype": "text/x-python",
   "name": "python",
   "nbconvert_exporter": "python",
   "pygments_lexer": "ipython3",
   "version": "3.6.3"
  }
 },
 "nbformat": 4,
 "nbformat_minor": 2
}
