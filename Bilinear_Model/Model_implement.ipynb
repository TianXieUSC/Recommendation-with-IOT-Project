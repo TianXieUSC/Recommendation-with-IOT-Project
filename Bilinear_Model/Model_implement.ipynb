{
 "cells": [
  {
   "cell_type": "code",
   "execution_count": 1,
   "metadata": {},
   "outputs": [],
   "source": [
    "from Bilinear_Model_Matrix_Factorization import Bilinear_Matrix_Factorization"
   ]
  },
  {
   "cell_type": "code",
   "execution_count": 2,
   "metadata": {},
   "outputs": [],
   "source": [
    "rating_path='./ratings.csv'\n",
    "feature_path='./Feature_Vector.csv'\n",
    "sale_path='./sale.csv'"
   ]
  },
  {
   "cell_type": "code",
   "execution_count": 3,
   "metadata": {},
   "outputs": [
    {
     "name": "stderr",
     "output_type": "stream",
     "text": [
      "/Applications/anaconda/lib/python3.6/site-packages/IPython/core/interactiveshell.py:2821: DtypeWarning: Columns (5) have mixed types. Specify dtype option on import or set low_memory=False.\n",
      "  if self.run_code(code, result):\n"
     ]
    }
   ],
   "source": [
    "start=Bilinear_Matrix_Factorization(rating_path=rating_path,feature_path=feature_path,sale_path=sale_path)"
   ]
  },
  {
   "cell_type": "code",
   "execution_count": 4,
   "metadata": {},
   "outputs": [
    {
     "name": "stdout",
     "output_type": "stream",
     "text": [
      "The data size for modeling\n",
      "Ratings:  (44917, 4)\n",
      "Training:  (35933, 4)\n",
      "Testing:  (7169, 4)\n",
      "Number of Iteration:  0\n",
      "Number of Iteration:  100\n",
      "Number of Iteration:  200\n",
      "Number of Iteration:  300\n",
      "Number of Iteration:  400\n",
      "Number of Iteration:  500\n",
      "Number of Iteration:  600\n",
      "Number of Iteration:  700\n",
      "Number of Iteration:  800\n",
      "Number of Iteration:  900\n"
     ]
    }
   ],
   "source": [
    "user,item,W,train_rmse,test_rmse,user_select,item_select=start.start()"
   ]
  },
  {
   "cell_type": "code",
   "execution_count": 8,
   "metadata": {},
   "outputs": [
    {
     "data": {
      "text/plain": [
       "0.6319576719346741"
      ]
     },
     "execution_count": 8,
     "metadata": {},
     "output_type": "execute_result"
    }
   ],
   "source": [
    "test_rmse[-1]"
   ]
  },
  {
   "cell_type": "code",
   "execution_count": 5,
   "metadata": {},
   "outputs": [],
   "source": [
    "import matplotlib.pyplot as plt"
   ]
  },
  {
   "cell_type": "code",
   "execution_count": 6,
   "metadata": {},
   "outputs": [
    {
     "data": {
      "image/png": "[encoded data removed]",
      "text/plain": [
       "<matplotlib.figure.Figure at 0x11d1e79b0>"
      ]
     },
     "metadata": {},
     "output_type": "display_data"
    }
   ],
   "source": [
    "fig,ax=plt.subplots()\n",
    "fig.set_size_inches(10,6)\n",
    "plt.plot(train_rmse,'b')\n",
    "plt.plot(test_rmse,'r')\n",
    "\n",
    "plt.title('RMSE training and testing data',fontsize=15)\n",
    "plt.legend(['Training','Testing'],fontsize=15)\n",
    "plt.xlabel('Iteration',fontsize=15)\n",
    "plt.ylabel('RMSE',fontsize=15)\n",
    "plt.xticks(fontsize=15)\n",
    "plt.yticks(fontsize=15)\n",
    "\n",
    "plt.grid(True)\n",
    "plt.show()\n",
    "plt.close()"
   ]
  },
  {
   "cell_type": "code",
   "execution_count": 8,
   "metadata": {},
   "outputs": [],
   "source": [
    "import pandas as pd\n",
    "import numpy as np"
   ]
  },
  {
   "cell_type": "code",
   "execution_count": 9,
   "metadata": {},
   "outputs": [],
   "source": [
    "def painting(W,f1,f2):\n",
    "\n",
    "    g=f1/2\n",
    "    fig,ax=plt.subplots()\n",
    "    fig.set_size_inches(10,6)\n",
    "    index=np.arange(0,2*len(new_item_code_word),2)\n",
    "    bar_with=0.8\n",
    "    pic=plt.bar(index,W[f1][:7],bar_with,alpha=0.6,color='r')\n",
    "    pic=plt.bar(index+bar_with,W[f2][:7],bar_with,alpha=0.6,color='b')\n",
    "    \n",
    "    plt.legend(labels=['First Half','Second Half'],fontsize=15)\n",
    "    plt.xticks(index,list(new_item_code_word.values()),rotation=-20,fontsize=15)\n",
    "    plt.yticks(fontsize=10)\n",
    "    plt.title('genre%d'%g,fontsize=15)\n",
    "    ax.set_xlabel('Items',fontsize=15)\n",
    "    ax.set_ylabel('Percentage',fontsize=15)\n",
    "    plt.savefig('/Users/apple/Documents/Project1_IOT_data/New_Model/Figure/trash_2_%d'%g,dpi=200)\n",
    "    plt.close()"
   ]
  },
  {
   "cell_type": "code",
   "execution_count": 12,
   "metadata": {},
   "outputs": [],
   "source": [
    "for i in range(61):\n",
    "    painting(W,i,i+1)"
   ]
  },
  {
   "cell_type": "code",
   "execution_count": 11,
   "metadata": {},
   "outputs": [],
   "source": [
    "new_item_code_word={1:'Cigarette',2:'Snack',3:'Food',4:'Alcohol',5:'Beverage',6:'Daily Use',7:'Spiritual Needs'}"
   ]
  },
  {
   "cell_type": "code",
   "execution_count": null,
   "metadata": {},
   "outputs": [],
   "source": []
  }
 ],
 "metadata": {
  "kernelspec": {
   "display_name": "Python 3",
   "language": "python",
   "name": "python3"
  },
  "language_info": {
   "codemirror_mode": {
    "name": "ipython",
    "version": 3
   },
   "file_extension": ".py",
   "mimetype": "text/x-python",
   "name": "python",
   "nbconvert_exporter": "python",
   "pygments_lexer": "ipython3",
   "version": "3.6.3"
  }
 },
 "nbformat": 4,
 "nbformat_minor": 2
}
