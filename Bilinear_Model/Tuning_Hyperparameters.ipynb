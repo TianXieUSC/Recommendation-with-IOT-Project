{
 "cells": [
  {
   "cell_type": "code",
   "execution_count": 6,
   "metadata": {},
   "outputs": [],
   "source": [
    "import pandas as pd\n",
    "import numpy as np\n",
    "import os\n",
    "import matplotlib.pyplot as plt\n",
    "import re"
   ]
  },
  {
   "cell_type": "code",
   "execution_count": 7,
   "metadata": {},
   "outputs": [],
   "source": [
    "def Hash(ratings):\n",
    "\n",
    "    hash_userid={}\n",
    "    hash_itemid={}\n",
    "    count=0\n",
    "    for i in sorted(set(ratings['UserId'].values)):\n",
    "        hash_userid[i]=count\n",
    "        count+=1\n",
    "    count=0\n",
    "    for i in sorted(set(ratings['ItemId'].values)):\n",
    "        hash_itemid[i]=count\n",
    "        count+=1\n",
    "    return (hash_userid,hash_itemid)"
   ]
  },
  {
   "cell_type": "code",
   "execution_count": 8,
   "metadata": {},
   "outputs": [],
   "source": [
    "def Test_index(train,validation):\n",
    "    \n",
    "    hash_userid,hash_itemid=Hash(train)\n",
    "    user_select=[]\n",
    "    item_select=[]\n",
    "    for i in set(validation.index):\n",
    "        user_select.append(hash_userid[i])\n",
    "    for i in set(validation['ItemId'].values):\n",
    "        item_select.append(hash_itemid[i])\n",
    "    return user_select,item_select"
   ]
  },
  {
   "cell_type": "code",
   "execution_count": 25,
   "metadata": {},
   "outputs": [],
   "source": [
    "validation=validation.set_index('UserId')\n",
    "user_select,item_select=Test_index(train,validation)"
   ]
  },
  {
   "cell_type": "code",
   "execution_count": 9,
   "metadata": {},
   "outputs": [],
   "source": [
    "def rmse(R,user,item,user_feature_matrix,item_feature_matrix,W):\n",
    "\n",
    "    M=np.dot(user,item.T)\n",
    "    temp_1=np.dot(user_feature_matrix,np.dot(W,item_feature_matrix.T))\n",
    "    M=M+temp_1\n",
    "    M[R==0]=0\n",
    "    diff=R-M\n",
    "    return np.sqrt(np.sum(np.power(diff,2))/np.count_nonzero(R))"
   ]
  },
  {
   "cell_type": "code",
   "execution_count": 10,
   "metadata": {},
   "outputs": [],
   "source": [
    "def update_item(row,item_row,user,R,item_feature_row,user_feature_matrix,W,index):\n",
    "\n",
    "    temp_1=R[:,row]\n",
    "    user=user[index]\n",
    "    temp_2=temp_1[index]\n",
    "    user_feature_row=user_feature_matrix[index]\n",
    "\n",
    "    temp_3=np.dot(user,item_row.T)+np.dot(user_feature_row,np.dot(W,item_feature_row.T))-temp_2\n",
    "    result=0\n",
    "    for i in range(len(temp_3)):\n",
    "        result+=user[i]*temp_3[i]\n",
    "    return result/len(temp_3)"
   ]
  },
  {
   "cell_type": "code",
   "execution_count": 11,
   "metadata": {},
   "outputs": [],
   "source": [
    "def update_user(row,user_row,item,R,user_feature_row,item_feature_matrix,W,index):\n",
    "\n",
    "    temp_1=R[row]\n",
    "    item=item[index]\n",
    "    temp_2=temp_1[index]\n",
    "    item_feature_row=item_feature_matrix[index]\n",
    "    \n",
    "    temp_3=np.dot(user_row,item.T)+np.dot(user_feature_row,np.dot(W,item_feature_row.T))-temp_2\n",
    "    result=0\n",
    "    for i in range(len(temp_3)):\n",
    "        result+=item[i]*temp_3[i]\n",
    "    return result/len(temp_3)"
   ]
  },
  {
   "cell_type": "code",
   "execution_count": 42,
   "metadata": {},
   "outputs": [],
   "source": [
    "# tuning the latent dimension\n",
    "def model_implement_matrix_L(R,V,user_feature_matrix,item_feature_matrix,user_select,item_select,L):     \n",
    "    \n",
    "    Lambda_1=0.01   #regulation \n",
    "    Lambda_2=0.01\n",
    "    Lambda_3=0.01\n",
    "    L=L   #Latent space      too much overfitting\n",
    "    eTa=0.01  #gradient decent parameter     change to 0.001\n",
    "    K=500   #Iteration times\n",
    "    \n",
    "    train_rmse=[]\n",
    "    validation_rmse=[]\n",
    "    #Latent matrix\n",
    "    user=np.random.randn(user_feature_matrix.shape[0],L)/5\n",
    "    item=np.random.randn(item_feature_matrix.shape[0],L)/5\n",
    "    W=np.random.randn(user_feature_matrix.shape[1],item_feature_matrix.shape[1])/5\n",
    "\n",
    "    index_row=[]\n",
    "    index_column=[]\n",
    "    for row in R:\n",
    "        index_row.append(list(np.where(row!=0)[0]))\n",
    "    for col in range(R.shape[1]):\n",
    "        index_column.append(list(np.where(R[:,col]!=0)[0]))\n",
    "    \n",
    "    for i in range(K):\n",
    "        if i%50==0:\n",
    "            print(i)\n",
    "        for row in range(len(user)):\n",
    "            user[row]-=eTa*(update_user(row,user[row],item,R,user_feature_matrix[row],item_feature_matrix,W,index_row[row])+Lambda_1*user[row])\n",
    "        for row in range(len(item)):\n",
    "            item[row]-=eTa*(update_item(row,item[row],user,R,item_feature_matrix[row],user_feature_matrix,W,index_column[row])+Lambda_2*item[row])\n",
    "        temp_1=np.dot(user,item.T)+np.dot(user_feature_matrix,np.dot(W,item_feature_matrix.T))\n",
    "        temp_1[R==0]=0\n",
    "        result=0\n",
    "        for x in range(len(user_feature_matrix)):\n",
    "            for y in range(len(item_feature_matrix)):\n",
    "                if R[x][y]==0:\n",
    "                    continue\n",
    "                user_feature_row=user_feature_matrix[x].reshape(len(user_feature_matrix[x]),1)\n",
    "                item_feature_row=item_feature_matrix[y].reshape(len(item_feature_matrix[y]),1)\n",
    "                result+=temp_1[x][y]*np.dot(user_feature_row,item_feature_row.T)\n",
    "        W-=eTa*(result/np.count_nonzero(R)+Lambda_3*W)\n",
    "        \n",
    "    train_rmse.append(rmse(R,user,item,user_feature_matrix,item_feature_matrix,W))\n",
    "    validation_rmse.append(rmse(V,user[user_select],item[item_select],user_feature_matrix[user_select],item_feature_matrix[item_select],W))\n",
    "    return train_rmse,validation_rmse"
   ]
  },
  {
   "cell_type": "code",
   "execution_count": null,
   "metadata": {
    "scrolled": true
   },
   "outputs": [
    {
     "name": "stdout",
     "output_type": "stream",
     "text": [
      "0\n",
      "50\n",
      "100\n",
      "150\n",
      "200\n",
      "250\n",
      "300\n",
      "350\n",
      "400\n",
      "450\n",
      "2\n",
      "0\n",
      "50\n",
      "100\n",
      "150\n",
      "200\n",
      "250\n",
      "300\n",
      "350\n",
      "400\n",
      "450\n",
      "3\n",
      "0\n",
      "50\n"
     ]
    }
   ],
   "source": [
    "train_rmse=[]\n",
    "validation_rmse=[]\n",
    "for i in range(2,15):\n",
    "    a,b=train_rmse,validation_rmse=model_implement_matrix_L(R,V,user_feature_matrix,item_feature_matrix,user_select,item_select,i)\n",
    "    train_rmse.append(a)\n",
    "    validation_rmse.append(b)\n",
    "    print(i)"
   ]
  },
  {
   "cell_type": "code",
   "execution_count": 40,
   "metadata": {
    "scrolled": true
   },
   "outputs": [
    {
     "name": "stdout",
     "output_type": "stream",
     "text": [
      "0\n"
     ]
    },
    {
     "ename": "KeyboardInterrupt",
     "evalue": "",
     "output_type": "error",
     "traceback": [
      "\u001b[0;31m---------------------------------------------------------------------------\u001b[0m",
      "\u001b[0;31mKeyboardInterrupt\u001b[0m                         Traceback (most recent call last)",
      "\u001b[0;32m<ipython-input-40-6f12da81c37c>\u001b[0m in \u001b[0;36m<module>\u001b[0;34m()\u001b[0m\n\u001b[1;32m      2\u001b[0m \u001b[0mvalidation_L\u001b[0m\u001b[0;34m=\u001b[0m\u001b[0;34m[\u001b[0m\u001b[0;34m]\u001b[0m\u001b[0;34m\u001b[0m\u001b[0m\n\u001b[1;32m      3\u001b[0m \u001b[0;32mfor\u001b[0m \u001b[0mi\u001b[0m \u001b[0;32min\u001b[0m \u001b[0mrange\u001b[0m\u001b[0;34m(\u001b[0m\u001b[0;36m2\u001b[0m\u001b[0;34m,\u001b[0m\u001b[0;36m30\u001b[0m\u001b[0;34m,\u001b[0m\u001b[0;36m2\u001b[0m\u001b[0;34m)\u001b[0m\u001b[0;34m:\u001b[0m\u001b[0;34m\u001b[0m\u001b[0m\n\u001b[0;32m----> 4\u001b[0;31m     \u001b[0ma\u001b[0m\u001b[0;34m,\u001b[0m\u001b[0mb\u001b[0m\u001b[0;34m=\u001b[0m\u001b[0mtrain_rmse\u001b[0m\u001b[0;34m,\u001b[0m\u001b[0mvalidation_rmse\u001b[0m\u001b[0;34m=\u001b[0m\u001b[0mmodel_implement_matrix_L\u001b[0m\u001b[0;34m(\u001b[0m\u001b[0mR\u001b[0m\u001b[0;34m,\u001b[0m\u001b[0mV\u001b[0m\u001b[0;34m,\u001b[0m\u001b[0muser_feature_matrix\u001b[0m\u001b[0;34m,\u001b[0m\u001b[0mitem_feature_matrix\u001b[0m\u001b[0;34m,\u001b[0m\u001b[0muser_select\u001b[0m\u001b[0;34m,\u001b[0m\u001b[0mitem_select\u001b[0m\u001b[0;34m,\u001b[0m\u001b[0mi\u001b[0m\u001b[0;34m)\u001b[0m\u001b[0;34m\u001b[0m\u001b[0m\n\u001b[0m\u001b[1;32m      5\u001b[0m     \u001b[0mtrain_L\u001b[0m\u001b[0;34m.\u001b[0m\u001b[0mappend\u001b[0m\u001b[0;34m(\u001b[0m\u001b[0ma\u001b[0m\u001b[0;34m)\u001b[0m\u001b[0;34m\u001b[0m\u001b[0m\n\u001b[1;32m      6\u001b[0m     \u001b[0mvalidation_L\u001b[0m\u001b[0;34m.\u001b[0m\u001b[0mappend\u001b[0m\u001b[0;34m(\u001b[0m\u001b[0mb\u001b[0m\u001b[0;34m)\u001b[0m\u001b[0;34m\u001b[0m\u001b[0m\n",
      "\u001b[0;32m<ipython-input-27-078c3bc1d76a>\u001b[0m in \u001b[0;36mmodel_implement_matrix_L\u001b[0;34m(R, V, user_feature_matrix, item_feature_matrix, user_select, item_select, L)\u001b[0m\n\u001b[1;32m     35\u001b[0m         \u001b[0;32mfor\u001b[0m \u001b[0mx\u001b[0m \u001b[0;32min\u001b[0m \u001b[0mrange\u001b[0m\u001b[0;34m(\u001b[0m\u001b[0mlen\u001b[0m\u001b[0;34m(\u001b[0m\u001b[0muser_feature_matrix\u001b[0m\u001b[0;34m)\u001b[0m\u001b[0;34m)\u001b[0m\u001b[0;34m:\u001b[0m\u001b[0;34m\u001b[0m\u001b[0m\n\u001b[1;32m     36\u001b[0m             \u001b[0;32mfor\u001b[0m \u001b[0my\u001b[0m \u001b[0;32min\u001b[0m \u001b[0mrange\u001b[0m\u001b[0;34m(\u001b[0m\u001b[0mlen\u001b[0m\u001b[0;34m(\u001b[0m\u001b[0mitem_feature_matrix\u001b[0m\u001b[0;34m)\u001b[0m\u001b[0;34m)\u001b[0m\u001b[0;34m:\u001b[0m\u001b[0;34m\u001b[0m\u001b[0m\n\u001b[0;32m---> 37\u001b[0;31m                 \u001b[0;32mif\u001b[0m \u001b[0mR\u001b[0m\u001b[0;34m[\u001b[0m\u001b[0mx\u001b[0m\u001b[0;34m]\u001b[0m\u001b[0;34m[\u001b[0m\u001b[0my\u001b[0m\u001b[0;34m]\u001b[0m\u001b[0;34m==\u001b[0m\u001b[0;36m0\u001b[0m\u001b[0;34m:\u001b[0m\u001b[0;34m\u001b[0m\u001b[0m\n\u001b[0m\u001b[1;32m     38\u001b[0m                     \u001b[0;32mcontinue\u001b[0m\u001b[0;34m\u001b[0m\u001b[0m\n\u001b[1;32m     39\u001b[0m                 \u001b[0muser_feature_row\u001b[0m\u001b[0;34m=\u001b[0m\u001b[0muser_feature_matrix\u001b[0m\u001b[0;34m[\u001b[0m\u001b[0mx\u001b[0m\u001b[0;34m]\u001b[0m\u001b[0;34m.\u001b[0m\u001b[0mreshape\u001b[0m\u001b[0;34m(\u001b[0m\u001b[0mlen\u001b[0m\u001b[0;34m(\u001b[0m\u001b[0muser_feature_matrix\u001b[0m\u001b[0;34m[\u001b[0m\u001b[0mx\u001b[0m\u001b[0;34m]\u001b[0m\u001b[0;34m)\u001b[0m\u001b[0;34m,\u001b[0m\u001b[0;36m1\u001b[0m\u001b[0;34m)\u001b[0m\u001b[0;34m\u001b[0m\u001b[0m\n",
      "\u001b[0;31mKeyboardInterrupt\u001b[0m: "
     ]
    }
   ],
   "source": [
    "train_L=[]\n",
    "validation_L=[]\n",
    "for i in range(2,30,2):\n",
    "    a,b=train_rmse,validation_rmse=model_implement_matrix_L(R,V,user_feature_matrix,item_feature_matrix,user_select,item_select,i)\n",
    "    train_L.append(a)\n",
    "    validation_L.append(b)\n",
    "    print(i)"
   ]
  },
  {
   "cell_type": "code",
   "execution_count": null,
   "metadata": {},
   "outputs": [],
   "source": [
    "np.savetxt('/Users/apple/Documents/Project1_IOT_data/New_Model/Figure/parameters_tuning/validation.txt',validation_L)"
   ]
  },
  {
   "cell_type": "code",
   "execution_count": null,
   "metadata": {},
   "outputs": [],
   "source": [
    "train_L=np.array(train_L)\n",
    "validation_L=np.array(validation_L)"
   ]
  },
  {
   "cell_type": "code",
   "execution_count": null,
   "metadata": {},
   "outputs": [],
   "source": [
    "for i in range(len(train_L)):\n",
    "    \n",
    "    train_L=np.array(train_L)\n",
    "    validation_L=np.array(validation_L)\n",
    "    Latent=(i+1)*2\n",
    "    fig,ax=plt.subplots()\n",
    "    fig.set_size_inches(10,6)\n",
    "    plt.plot(train_L[i],'b')\n",
    "    plt.plot(validation_L[i],'r')\n",
    "    plt.title('RMSE for training and validation set',fontsize=15)\n",
    "    plt.xlabel('Iteration',fontsize=15)\n",
    "    plt.ylabel('RMSE',fontsize=15)\n",
    "    plt.xticks(fontsize=15)\n",
    "    plt.yticks(fontsize=15)\n",
    "    plt.legend(['Training Set','Validation Set'],fontsize=15)\n",
    "    plt.text('700','1.6',r'$\\lambda=0.001$'+'\\n'+'$\\eta=0.001$'+'\\n'+'L=%d'%Latent,fontsize=15)\n",
    "    plt.grid(True)\n",
    "    plt.savefig('/Users/apple/Documents/Project1_IOT_data/New_Model/Figure/parameters_tuning/L_RMSE_%d'%Latent,dpi=200)\n",
    "    plt.close()"
   ]
  },
  {
   "cell_type": "code",
   "execution_count": null,
   "metadata": {
    "scrolled": true
   },
   "outputs": [],
   "source": [
    "user,item,W,train_rmse,validation_rmse=model_implement_matrix(R,V,user_feature_matrix,item_feature_matrix,user_select,item_select)"
   ]
  },
  {
   "cell_type": "code",
   "execution_count": null,
   "metadata": {},
   "outputs": [],
   "source": [
    "fig,ax=plt.subplots()\n",
    "fig.set_size_inches(10,6)\n",
    "plt.plot(train_L[:,50],'b')\n",
    "plt.plot(validation_L[:,50],'r')\n",
    "plt.xlabel('Latent Dimension',fontsize=15)\n",
    "plt.ylabel('RMSE',fontsize=15)\n",
    "plt.title('Latent Dimension--RMSE',fontsize=15)\n",
    "plt.xticks(range(len(train_L[:,150])),range(2,30,2),fontsize=15)\n",
    "plt.text('9','0.8',r'$\\lambda=0.01$'+'\\n'+'$\\eta=0.01$'+'\\n'+'K=50',fontsize=15)\n",
    "plt.yticks(fontsize=15)\n",
    "plt.legend(['train set','validation set'],fontsize=15)\n",
    "plt.grid(True)\n",
    "plt.savefig('/Users/apple/Documents/Project1_IOT_data/New_Model/Figure/parameters_tuning/Latent_dimension_K_50',dpi=200)\n",
    "plt.close()"
   ]
  },
  {
   "cell_type": "code",
   "execution_count": null,
   "metadata": {},
   "outputs": [],
   "source": [
    "fig,ax=plt.subplots()\n",
    "fig.set_size_inches(10,6)\n",
    "plt.plot(train_L[:,-1],'b')\n",
    "plt.plot(validation_L[:,-1],'r')\n",
    "plt.xlabel('Latent Dimension',fontsize=15)\n",
    "plt.ylabel('RMSE',fontsize=15)\n",
    "plt.title('Latent Dimension--RMSE',fontsize=15)\n",
    "plt.xticks(range(len(train_L[:,-1])),range(2,30,2),fontsize=15)\n",
    "plt.text('9','0.55',r'$\\lambda=0.01$'+'\\n'+'$\\eta=0.01$'+'\\n'+'K=200',fontsize=15)\n",
    "plt.yticks(fontsize=15)\n",
    "plt.legend(['train set','validation set'],fontsize=15)\n",
    "plt.grid(True)\n",
    "plt.show()\n",
    "plt.close()"
   ]
  },
  {
   "cell_type": "code",
   "execution_count": null,
   "metadata": {
    "scrolled": false
   },
   "outputs": [],
   "source": [
    "fig,ax=plt.subplots()\n",
    "fig.set_size_inches(10,6)\n",
    "plt.plot(train_rmse,'b')\n",
    "plt.plot(validation_rmse,'r')\n",
    "plt.title('RMSE for training and validation set',fontsize=15)\n",
    "plt.xlabel('Iteration',fontsize=15)\n",
    "plt.ylabel('RMSE',fontsize=15)\n",
    "plt.xticks(fontsize=15)\n",
    "plt.yticks(fontsize=15)\n",
    "plt.legend(['Training Set','Validation Set'],fontsize=15)\n",
    "plt.text('700','1.6',r'$\\lambda=0.001$'+'\\n'+'$\\eta=0.001$',fontsize=15)\n",
    "plt.grid(True)\n",
    "plt.show()\n",
    "plt.close()"
   ]
  },
  {
   "cell_type": "code",
   "execution_count": 24,
   "metadata": {},
   "outputs": [],
   "source": [
    "#rating matrix\n",
    "R_dataframe = train.pivot(index = 'UserId', columns ='ItemId', values = 'Rating').fillna(0)\n",
    "R=R_dataframe.values\n",
    "\n",
    "#validation matrix\n",
    "validation=validation.reset_index()\n",
    "validation_dataframe = validation.pivot(index = 'UserId', columns ='ItemId', values = 'Rating').fillna(0)\n",
    "V=validation_dataframe.values\n",
    "\n",
    "user_feature_matrix=[]\n",
    "for i in sorted(set(train['UserId'].values)):\n",
    "    user_feature_matrix.append(list(user_feature_dict[i]))\n",
    "item_feature_matrix=[]\n",
    "for i in sorted(set(train['ItemId'].values)):\n",
    "    item_feature_matrix.append(list(item_feature_dict[i]))\n",
    "\n",
    "#feature matirx\n",
    "user_feature_matrix=np.array(user_feature_matrix)\n",
    "item_feature_matrix=np.array(item_feature_matrix)"
   ]
  },
  {
   "cell_type": "markdown",
   "metadata": {},
   "source": [
    "Rating data"
   ]
  },
  {
   "cell_type": "code",
   "execution_count": 13,
   "metadata": {},
   "outputs": [
    {
     "data": {
      "text/html": [
       "<div>\n",
       "<style>\n",
       "    .dataframe thead tr:only-child th {\n",
       "        text-align: right;\n",
       "    }\n",
       "\n",
       "    .dataframe thead th {\n",
       "        text-align: left;\n",
       "    }\n",
       "\n",
       "    .dataframe tbody tr th {\n",
       "        vertical-align: top;\n",
       "    }\n",
       "</style>\n",
       "<table border=\"1\" class=\"dataframe\">\n",
       "  <thead>\n",
       "    <tr style=\"text-align: right;\">\n",
       "      <th></th>\n",
       "      <th>UserId</th>\n",
       "      <th>ItemId</th>\n",
       "      <th>Rating</th>\n",
       "      <th>Timestamp</th>\n",
       "    </tr>\n",
       "  </thead>\n",
       "  <tbody>\n",
       "    <tr>\n",
       "      <th>0</th>\n",
       "      <td>00:02:71:d3:0f:d3</td>\n",
       "      <td>1911015</td>\n",
       "      <td>1.179104</td>\n",
       "      <td>2015-09-04 23:05:22</td>\n",
       "    </tr>\n",
       "    <tr>\n",
       "      <th>1</th>\n",
       "      <td>00:02:71:d3:0f:d3</td>\n",
       "      <td>9807457</td>\n",
       "      <td>1.000000</td>\n",
       "      <td>2015-07-22 08:37:22</td>\n",
       "    </tr>\n",
       "    <tr>\n",
       "      <th>2</th>\n",
       "      <td>00:03:4d:a1:04:64</td>\n",
       "      <td>1090192</td>\n",
       "      <td>1.000000</td>\n",
       "      <td>2015-08-09 00:30:55</td>\n",
       "    </tr>\n",
       "    <tr>\n",
       "      <th>3</th>\n",
       "      <td>00:03:4d:a1:04:64</td>\n",
       "      <td>9000056</td>\n",
       "      <td>1.039801</td>\n",
       "      <td>2015-08-05 20:02:51</td>\n",
       "    </tr>\n",
       "    <tr>\n",
       "      <th>4</th>\n",
       "      <td>00:03:4d:a1:04:64</td>\n",
       "      <td>9000551</td>\n",
       "      <td>1.019900</td>\n",
       "      <td>2015-08-08 20:09:27</td>\n",
       "    </tr>\n",
       "  </tbody>\n",
       "</table>\n",
       "</div>"
      ],
      "text/plain": [
       "              UserId   ItemId    Rating            Timestamp\n",
       "0  00:02:71:d3:0f:d3  1911015  1.179104  2015-09-04 23:05:22\n",
       "1  00:02:71:d3:0f:d3  9807457  1.000000  2015-07-22 08:37:22\n",
       "2  00:03:4d:a1:04:64  1090192  1.000000  2015-08-09 00:30:55\n",
       "3  00:03:4d:a1:04:64  9000056  1.039801  2015-08-05 20:02:51\n",
       "4  00:03:4d:a1:04:64  9000551  1.019900  2015-08-08 20:09:27"
      ]
     },
     "execution_count": 13,
     "metadata": {},
     "output_type": "execute_result"
    }
   ],
   "source": [
    "ratings=pd.read_csv('/Users/apple/Documents/Project1_IOT_data/New_Model/ten_minutes/total/ratings_agg_nor.csv',index_col='Unnamed: 0')\n",
    "ratings.head()"
   ]
  },
  {
   "cell_type": "code",
   "execution_count": 14,
   "metadata": {},
   "outputs": [],
   "source": [
    "def User_Feature(ratings):\n",
    "    \n",
    "    feature=pd.read_csv('/Users/apple/Documents/Project1_IOT_data/New_Model/ten_minutes/total/feature/Feature_Vector.csv',index_col='Unnamed: 0')\n",
    "    \n",
    "    #only consider user in ratings\n",
    "    ratings_user=set(list(ratings.UserId))\n",
    "    feature=feature.loc[feature.UserId.map(lambda x: x in ratings_user)]\n",
    "    \n",
    "    #方差变标准差\n",
    "    feature['genre23']=feature.genre23.map(lambda x:np.sqrt(x))     \n",
    "    feature['genre24']=feature.genre24.map(lambda x:np.sqrt(x))\n",
    "    feature['genre25']=feature.genre25.map(lambda x:np.sqrt(x))\n",
    "    feature['genre26']=feature.genre26.map(lambda x:np.sqrt(x))\n",
    "    feature['genre27']=feature.genre27.map(lambda x:np.sqrt(x))\n",
    "    \n",
    "    #genre0 平均停留时间\n",
    "    feature=feature.sort_values(by='genre0')      \n",
    "    feature['genre0']=Bin(feature['genre0'].values) \n",
    "    \n",
    "    #genre1  总出现次数\n",
    "    result=[]       \n",
    "    for i in feature['genre1'].values:\n",
    "        val=list(np.zeros(2))     # 2 is the number of features that turn into\n",
    "        if i<=3:\n",
    "            val[0]=1\n",
    "            result.append(val)\n",
    "        else:\n",
    "            val[1]=1\n",
    "            result.append(val)\n",
    "    feature['genre1']=result\n",
    "    \n",
    "    #genre2  周中出现次数\n",
    "    result=[]       \n",
    "    for i in feature['genre2'].values:\n",
    "        val=list(np.zeros(2))\n",
    "        if i<=3:\n",
    "            val[0]=1\n",
    "            result.append(val)\n",
    "        else:\n",
    "            val[1]=1\n",
    "            result.append(val)\n",
    "    feature['genre2']=result\n",
    "    \n",
    "    #genre3   周末出现次数\n",
    "    result=[]       \n",
    "    for i in feature['genre3'].values:\n",
    "        val=list(np.zeros(2))\n",
    "        if i<=3:\n",
    "            val[0]=1\n",
    "            result.append(val)\n",
    "        else:\n",
    "            val[1]=1\n",
    "            result.append(val)\n",
    "    feature['genre3']=result\n",
    "    \n",
    "    #genre4   交易次数\n",
    "    result=[]       \n",
    "    for i in feature['genre4'].values:\n",
    "        val=list(np.zeros(2))\n",
    "        if i==1:\n",
    "            val[0]=1\n",
    "            result.append(val)\n",
    "        else:\n",
    "            val[1]=1\n",
    "            result.append(val)\n",
    "    feature['genre4']=result\n",
    "    \n",
    "    #genre5    最长停留时间\n",
    "    feature=feature.sort_values(by='genre5')   \n",
    "    feature['genre5']=Bin(feature['genre5'].values)\n",
    "    \n",
    "    #genre6    最短停留时间\n",
    "    feature=feature.sort_values(by='genre6')   \n",
    "    feature['genre6']=Bin(feature['genre6'].values)\n",
    "    \n",
    "    #genre  7,8,9,10  在时区1，2，3，4出现次数  genre 11,12,13,14  在时区1，2，3，4平均停留时间\n",
    "    for i in range(7,15):     \n",
    "        genre='genre%d'%i\n",
    "        result=[]\n",
    "        for j in feature[genre].values:\n",
    "            val=list(np.zeros(2))\n",
    "            if j==0:\n",
    "                val[0]=1\n",
    "                result.append(val)\n",
    "            else:\n",
    "                val[1]=1\n",
    "                result.append(val)\n",
    "        feature[genre]=result\n",
    "    \n",
    "    \n",
    "    #15  购物平均停留时间 16  路过平均停留时间  17  mac平均停留时间与总时间之比   \n",
    "    for i in range(15,18):   \n",
    "        genre='genre%d'%i\n",
    "        feature=feature.sort_values(by=genre)\n",
    "        feature[genre]=Bin(feature[genre].values) \n",
    "    \n",
    "    #genre  18  同一天出现多次的天数 19,20,21,22   第一，二，三，四周的出现次数 genre 23,24,25,26 在时区1，2，3，4的停留时间标准差\n",
    "    for i in range(18,27):     \n",
    "        genre='genre%d'%i\n",
    "        result=[]\n",
    "        for j in feature[genre].values:\n",
    "            val=list(np.zeros(2))\n",
    "            if j==0:\n",
    "                val[0]=1\n",
    "                result.append(val)\n",
    "            else:\n",
    "                val[1]=1\n",
    "                result.append(val)\n",
    "        feature[genre]=result\n",
    "    \n",
    "    #  27  停留时间标准差  \n",
    "    genre='genre%d'%27\n",
    "    feature=feature.sort_values(by=genre)\n",
    "    feature[genre]=Bin(feature[genre].values) \n",
    "    \n",
    "    #genre28   最后一次出现的时间\n",
    "    result=[]       \n",
    "    for i in feature['genre28'].values:\n",
    "        val=list(np.zeros(2))\n",
    "        if i<=28:\n",
    "            val[0]=1\n",
    "            result.append(val)\n",
    "        else:\n",
    "            val[1]=1\n",
    "            result.append(val)\n",
    "    feature['genre28']=result\n",
    "    \n",
    "    #genre29  进店没有购物的次数\n",
    "    result=[]       \n",
    "    for i in feature['genre29'].values:\n",
    "        val=list(np.zeros(2))\n",
    "        if i==0:\n",
    "            val[0]=1\n",
    "            result.append(val)\n",
    "        else:\n",
    "            val[1]=1\n",
    "            result.append(val)\n",
    "    feature['genre29']=result\n",
    "    \n",
    "    #genre20    路过次数\n",
    "    result=[]       \n",
    "    for i in feature['genre30'].values:\n",
    "        val=list(np.zeros(2))\n",
    "        if i<=5:\n",
    "            val[0]=1\n",
    "            result.append(val)\n",
    "        else:\n",
    "            val[1]=1\n",
    "            result.append(val)\n",
    "    feature['genre30']=result\n",
    "    \n",
    "    feature['feature']=feature.genre0\n",
    "    del feature['genre0']\n",
    "    for i in range(1,31):\n",
    "        genre='genre%d'%i\n",
    "        feature['feature']+=feature[genre]\n",
    "        del feature[genre]\n",
    "    \n",
    "    feature=feature.reset_index()\n",
    "    del feature['index']\n",
    "    feature['feature']=feature.feature.map(lambda x:np.array(x))\n",
    "    return feature"
   ]
  },
  {
   "cell_type": "code",
   "execution_count": 15,
   "metadata": {},
   "outputs": [],
   "source": [
    "# for continuous user feature\n",
    "def Bin(genre):\n",
    "    \n",
    "    length=len(genre)\n",
    "    bins=np.array([0,genre[int(length/2)],genre[length-1]+1])\n",
    "    output=[]\n",
    "    \n",
    "    place=np.digitize(genre,bins)\n",
    "    for i in place:\n",
    "        val=list(np.zeros(2))\n",
    "        val[i-1]=1\n",
    "        output.append(val)\n",
    "    return output"
   ]
  },
  {
   "cell_type": "code",
   "execution_count": 16,
   "metadata": {},
   "outputs": [],
   "source": [
    "user_feature=User_Feature(ratings)"
   ]
  },
  {
   "cell_type": "code",
   "execution_count": 17,
   "metadata": {},
   "outputs": [],
   "source": [
    "def Item_Feature(ratings):\n",
    "    \n",
    "    sale=pd.read_csv('/Users/apple/Desktop/Data/ten_store/sale/Total_sale.csv',index_col='Unnamed: 0')\n",
    "    sale['所属大品类代码']=sale['所属大品类代码'].astype('int')\n",
    "    sale['商品代码']=sale['商品代码'].astype('int')\n",
    "    #only consider the item in ratings\n",
    "    ratings_item=set(list(ratings.ItemId))\n",
    "    sale=sale.loc[sale['商品代码'].map(lambda x: x in ratings_item)]\n",
    "    Hash={1:[1],2:[2,4,8,9],3:[5,6,10,12,15,17,18,30],4:[11,28],5:[13,20,21,22,23,24,25,26,27],6:[14,49,50,51,52,53,54,55,56,57],7:[16,60,66,80,98]}\n",
    "    \n",
    "    #category vector\n",
    "    category={}\n",
    "    count=0\n",
    "    number=len(Hash)\n",
    "    for i in sorted(Hash.keys()):\n",
    "        category[i]=list(np.zeros(number))\n",
    "        category[i][count]=1\n",
    "        count+=1\n",
    "    \n",
    "    #price vector\n",
    "    price={}\n",
    "    for i in range(0,11):\n",
    "        val=list(np.zeros(11))\n",
    "        val[i]=1\n",
    "        price[i]=val\n",
    "\n",
    "    # connect 商品代码with 商品单价and 所属大品类代码\n",
    "    var_1=dict(set(zip(sale['商品代码'],sale['商品单价'])))\n",
    "    var_2=dict(set((zip(sale['商品代码'],sale['所属大品类代码']))))\n",
    "    \n",
    "    for new in Hash:\n",
    "        for old in Hash[new]:\n",
    "            for i in var_2:\n",
    "                if var_2[i]==old:\n",
    "                    var_2[i]=new\n",
    "    \n",
    "    item_price={}\n",
    "    item_cat={}\n",
    "    for i in set(sale['商品代码']):\n",
    "        item_price[i]=interval(var_1[i],price)\n",
    "        item_cat[i]=category[var_2[i]]\n",
    "        \n",
    "    output=[]\n",
    "    for i in item_price:\n",
    "        output.append([i,item_cat[i]+item_price[i]])\n",
    "    output=pd.DataFrame(output,columns=['ItemId','feature'])\n",
    "    output['feature']=output.feature.map(lambda x:np.array(x))\n",
    "    return output"
   ]
  },
  {
   "cell_type": "code",
   "execution_count": 18,
   "metadata": {},
   "outputs": [],
   "source": [
    "#set the price into 10 interval\n",
    "def interval(p,price):\n",
    "    \n",
    "    #val=np.arange(0,110,10)\n",
    "    val=[0,5,10,20]\n",
    "    return price[np.digitize(p,val)-1]"
   ]
  },
  {
   "cell_type": "code",
   "execution_count": 19,
   "metadata": {},
   "outputs": [
    {
     "name": "stderr",
     "output_type": "stream",
     "text": [
      "/Applications/anaconda/lib/python3.6/site-packages/IPython/core/interactiveshell.py:2821: DtypeWarning: Columns (5) have mixed types. Specify dtype option on import or set low_memory=False.\n",
      "  if self.run_code(code, result):\n"
     ]
    }
   ],
   "source": [
    "item_feature=Item_Feature(ratings)"
   ]
  },
  {
   "cell_type": "code",
   "execution_count": null,
   "metadata": {},
   "outputs": [],
   "source": [
    "user_feature.head()"
   ]
  },
  {
   "cell_type": "code",
   "execution_count": 20,
   "metadata": {},
   "outputs": [],
   "source": [
    "def data_process(ratings,user,item):\n",
    "    \n",
    "    #ratings only contains the user and item showing in user_feature and item_feature\n",
    "    var_user=set(list(user.UserId))\n",
    "    var_item=set(list(item.ItemId))\n",
    "    ratings=ratings.loc[ratings.UserId.map(lambda x: x in var_user)]\n",
    "    ratings=ratings.loc[ratings.ItemId.map(lambda x: x in var_item)]\n",
    "    \n",
    "    #user_feature and item_feature only contains the user and item showing in ratings\n",
    "    temp_user=set(list(ratings.UserId))\n",
    "    temp_item=set(list(ratings.ItemId))\n",
    "    user=user.loc[user.UserId.map(lambda x: x in temp_user)]\n",
    "    item=item.loc[item.ItemId.map(lambda x: x in temp_item)]\n",
    "    \n",
    "    train=ratings.sample(int(0.8*len(ratings)))\n",
    "    test=ratings.loc[list(set(ratings.index)-set(train.index))]    \n",
    "    users_train=set(list(train.UserId))\n",
    "    items_train=set(list(train.ItemId))\n",
    "    test=test.loc[test.UserId.map(lambda x: x in users_train)]\n",
    "    test=test.loc[test.ItemId.map(lambda x: x in items_train)]\n",
    "\n",
    "    print(ratings.shape)\n",
    "    print(train.shape)\n",
    "    print(test.shape)\n",
    "    test=test.set_index('UserId')\n",
    "    user=user.set_index('UserId')\n",
    "    item=item.set_index('ItemId')\n",
    "    \n",
    "    user_feature_dict={}\n",
    "    item_feature_dict={}\n",
    "    user_dim=0\n",
    "    item_dim=0\n",
    "    for i in user.index:\n",
    "        user_feature_dict[i]=user.loc[i]['feature']\n",
    "        user_dim=len(user_feature_dict[i])\n",
    "    for i in item.index:\n",
    "        item_feature_dict[i]=item.loc[i]['feature']\n",
    "        item_dim=len(item_feature_dict[i])\n",
    "    \n",
    "    return [train,test,user_feature_dict,item_feature_dict,user_dim,item_dim]"
   ]
  },
  {
   "cell_type": "code",
   "execution_count": 21,
   "metadata": {},
   "outputs": [
    {
     "name": "stdout",
     "output_type": "stream",
     "text": [
      "(44917, 4)\n",
      "(35933, 4)\n",
      "(7153, 4)\n"
     ]
    }
   ],
   "source": [
    "train,test,user_feature_dict,item_feature_dict,user_dim,item_dim=data_process(ratings,user_feature,item_feature)"
   ]
  },
  {
   "cell_type": "code",
   "execution_count": null,
   "metadata": {},
   "outputs": [],
   "source": [
    "train.head()"
   ]
  },
  {
   "cell_type": "code",
   "execution_count": 22,
   "metadata": {},
   "outputs": [],
   "source": [
    "def train_val(train):\n",
    "    \n",
    "    train_index=np.random.choice(range(len(train)),int(0.6*len(train)),replace=False)\n",
    "    val_index=list(set(range(len(train)))-set(train_index))\n",
    "    temp_train=train.reset_index()\n",
    "    del temp_train['index']\n",
    "    output_train=temp_train.loc[train_index]\n",
    "    output_val=temp_train.loc[val_index]\n",
    "    \n",
    "    train_user=set(list(output_train.UserId))\n",
    "    train_item=set(list(output_train.ItemId))\n",
    "    output_val=output_val.loc[output_val.UserId.map(lambda x:x in train_user)]\n",
    "    output_val=output_val.loc[output_val.ItemId.map(lambda x:x in train_item)]\n",
    "    \n",
    "    print(output_train.shape)\n",
    "    print(output_val.shape)\n",
    "    return output_train,output_val"
   ]
  },
  {
   "cell_type": "code",
   "execution_count": 23,
   "metadata": {},
   "outputs": [
    {
     "name": "stdout",
     "output_type": "stream",
     "text": [
      "(21559, 4)\n",
      "(9881, 4)\n"
     ]
    }
   ],
   "source": [
    "train,validation=train_val(train)"
   ]
  },
  {
   "cell_type": "code",
   "execution_count": null,
   "metadata": {},
   "outputs": [],
   "source": [
    "validation=validation.set_index('UserId')"
   ]
  },
  {
   "cell_type": "code",
   "execution_count": null,
   "metadata": {},
   "outputs": [],
   "source": [
    "def painting(W,f1,f2):\n",
    "    \n",
    "    g=f1/2\n",
    "    fig,ax=plt.subplots()\n",
    "    fig.set_size_inches(10,6)\n",
    "    index=np.arange(0,2*len(new_item_code_word),2)\n",
    "    bar_with=0.8\n",
    "    pic=plt.bar(index,W[f1][:7],bar_with,alpha=0.6,color='r')\n",
    "    pic=plt.bar(index+bar_with,W[f2][:7],bar_with,alpha=0.6,color='b')\n",
    "    \n",
    "    plt.legend(labels=['First Half','Second Half'],fontsize=18)\n",
    "    plt.xticks(index,list(new_item_code_word.values()),rotation=-75,fontsize=15)\n",
    "    plt.yticks(fontsize=20)\n",
    "    plt.title('genre%d'%g,fontsize=25)\n",
    "    ax.set_xlabel('Items',fontsize=25)\n",
    "    ax.set_ylabel('Percentage',fontsize=25)\n",
    "    plt.show()\n",
    "    plt.close()"
   ]
  },
  {
   "cell_type": "code",
   "execution_count": null,
   "metadata": {
    "scrolled": true
   },
   "outputs": [],
   "source": [
    "painting(W,0,2)"
   ]
  },
  {
   "cell_type": "code",
   "execution_count": null,
   "metadata": {},
   "outputs": [],
   "source": [
    "new_item_code_word={1:'Cigarette',2:'Snack',3:'Food',4:'Alcohol',5:'Beverage',6:'Daily Use',7:'Spiritual Needs'}"
   ]
  },
  {
   "cell_type": "code",
   "execution_count": null,
   "metadata": {},
   "outputs": [],
   "source": []
  }
 ],
 "metadata": {
  "kernelspec": {
   "display_name": "Python 3",
   "language": "python",
   "name": "python3"
  },
  "language_info": {
   "codemirror_mode": {
    "name": "ipython",
    "version": 3
   },
   "file_extension": ".py",
   "mimetype": "text/x-python",
   "name": "python",
   "nbconvert_exporter": "python",
   "pygments_lexer": "ipython3",
   "version": "3.6.3"
  }
 },
 "nbformat": 4,
 "nbformat_minor": 2
}
